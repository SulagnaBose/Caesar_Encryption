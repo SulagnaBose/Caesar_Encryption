{
  "nbformat": 4,
  "nbformat_minor": 0,
  "metadata": {
    "colab": {
      "name": "Untitled14.ipynb",
      "provenance": []
    },
    "kernelspec": {
      "name": "python3",
      "display_name": "Python 3"
    },
    "language_info": {
      "name": "python"
    }
  },
  "cells": [
    {
      "cell_type": "code",
      "metadata": {
        "colab": {
          "base_uri": "https://localhost:8080/"
        },
        "id": "gAaGGG5c2sM9",
        "outputId": "5bd57e21-7043-45d7-a400-94efa7fbf504"
      },
      "source": [
        "#Caesar encrytion\n",
        "\n",
        "def Encripted_msg(string, shift):\n",
        "    ciper = ''\n",
        "    for i in string:\n",
        "        if i == ' ':\n",
        "            ciper+= i\n",
        "        elif i.isupper():\n",
        "            ciper+= chr((ord(i)+shift-65)%26+65)\n",
        "        else:\n",
        "            ciper+= chr((ord(i)+shift-97)%26+97)\n",
        "    return ciper\n",
        "\n",
        "\n",
        "msg = input(\"Enter a msg: \")\n",
        "s = int(input(\"Enter the key(integer value): \"))\n",
        "print(\"Original Msg: \", msg)\n",
        "print(\"Encripted msg: \", Encripted_msg(msg,s))"
      ],
      "execution_count": 2,
      "outputs": [
        {
          "output_type": "stream",
          "name": "stdout",
          "text": [
            "Enter a msg: My name is Sulagna Bose\n",
            "Enter the key(integer value): 3\n",
            "Original Msg:  My name is Sulagna Bose\n",
            "Encripted msg:  Pb qdph lv Vxodjqd Ervh\n"
          ]
        }
      ]
    }
  ]
}